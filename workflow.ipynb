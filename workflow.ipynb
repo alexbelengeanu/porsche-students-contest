{
 "cells": [
  {
   "cell_type": "markdown",
   "id": "20481ca6-12fe-45f9-873c-7161893e997a",
   "metadata": {},
   "source": [
    "## Imports"
   ]
  },
  {
   "cell_type": "code",
   "execution_count": 1,
   "id": "a6a5fab7-a275-4da0-81da-109bdbb78763",
   "metadata": {
    "tags": []
   },
   "outputs": [
    {
     "ename": "ModuleNotFoundError",
     "evalue": "No module named 'mediapipe'",
     "output_type": "error",
     "traceback": [
      "\u001b[1;31m---------------------------------------------------------------------------\u001b[0m",
      "\u001b[1;31mModuleNotFoundError\u001b[0m                       Traceback (most recent call last)",
      "Cell \u001b[1;32mIn[1], line 3\u001b[0m\n\u001b[0;32m      1\u001b[0m \u001b[38;5;28;01mfrom\u001b[39;00m \u001b[38;5;21;01multralytics\u001b[39;00m \u001b[38;5;28;01mimport\u001b[39;00m YOLO\n\u001b[0;32m      2\u001b[0m \u001b[38;5;28;01mfrom\u001b[39;00m \u001b[38;5;21;01mPIL\u001b[39;00m \u001b[38;5;28;01mimport\u001b[39;00m Image\n\u001b[1;32m----> 3\u001b[0m \u001b[38;5;28;01mimport\u001b[39;00m \u001b[38;5;21;01mmediapipe\u001b[39;00m \u001b[38;5;28;01mas\u001b[39;00m \u001b[38;5;21;01mmp\u001b[39;00m\n\u001b[0;32m      4\u001b[0m \u001b[38;5;28;01mimport\u001b[39;00m \u001b[38;5;21;01mnumpy\u001b[39;00m \u001b[38;5;28;01mas\u001b[39;00m \u001b[38;5;21;01mnp\u001b[39;00m\n\u001b[0;32m      5\u001b[0m \u001b[38;5;28;01mimport\u001b[39;00m \u001b[38;5;21;01mpandas\u001b[39;00m \u001b[38;5;28;01mas\u001b[39;00m \u001b[38;5;21;01mpd\u001b[39;00m\n",
      "\u001b[1;31mModuleNotFoundError\u001b[0m: No module named 'mediapipe'"
     ]
    }
   ],
   "source": [
    "from ultralytics import YOLO\n",
    "from PIL import Image\n",
    "import mediapipe as mp\n",
    "import numpy as np\n",
    "import pandas as pd\n",
    "import cv2\n",
    "import os\n",
    "import sys\n",
    "\n",
    "from scripts import pose_estimator\n",
    "from scripts.classifier import classify_by_hip_distance"
   ]
  },
  {
   "cell_type": "markdown",
   "id": "e1eff8e6-eae7-4337-903b-c6b02c262cd3",
   "metadata": {},
   "source": [
    "## Setup"
   ]
  },
  {
   "cell_type": "code",
   "execution_count": 2,
   "id": "33dc77ee-f4f8-4abf-bec9-a93ef067c437",
   "metadata": {
    "tags": []
   },
   "outputs": [],
   "source": [
    "model = YOLO(r\"E:/GitHub/porsche-students-contest/runs/detect/train5/weights/best.pt\")"
   ]
  },
  {
   "cell_type": "markdown",
   "id": "c8dfa115-7fcf-4d7c-8e0c-34eee95b6cc9",
   "metadata": {},
   "source": [
    "## Make predictions"
   ]
  },
  {
   "cell_type": "code",
   "execution_count": 30,
   "id": "4a6d9d76-f21d-4685-91ec-45ea34ab2b4f",
   "metadata": {
    "tags": []
   },
   "outputs": [],
   "source": [
    "source = Image.open(r\"E:/GitHub/porsche-students-contest/images/src10.jpg\")"
   ]
  },
  {
   "cell_type": "code",
   "execution_count": 31,
   "id": "123122ea-5bb3-45d1-8a24-3ec967b160f0",
   "metadata": {
    "tags": []
   },
   "outputs": [
    {
     "name": "stderr",
     "output_type": "stream",
     "text": [
      "\n",
      "0: 480x800 1 crosswalk, 2 persons, 144.4ms\n",
      "Speed: 3.0ms preprocess, 144.4ms inference, 2.0ms postprocess per image at shape (1, 3, 800, 800)\n",
      "Results saved to \u001b[1mE:\\GitHub\\porsche-students-contest\\runs\\detect\\predict4\u001b[0m\n"
     ]
    }
   ],
   "source": [
    "results = model.predict(source=source, save=True)"
   ]
  },
  {
   "cell_type": "code",
   "execution_count": 15,
   "id": "5cde58e1-279f-4564-85ba-4d73e60198d9",
   "metadata": {
    "tags": []
   },
   "outputs": [],
   "source": [
    "crosswalks = []\n",
    "persons = []"
   ]
  },
  {
   "cell_type": "code",
   "execution_count": 16,
   "id": "227dc23d-35ec-4213-a0b3-9b747c9178f4",
   "metadata": {},
   "outputs": [],
   "source": [
    "for idx, box in enumerate(results[0].boxes.boxes):\n",
    "    if box[-1] == 1:\n",
    "        x_min, y_min, x_max, y_max = int(box[0]), int(box[1]), int(box[2]), int(box[3])\n",
    "        crosswalks.append((x_min, y_min, x_max, y_max))\n",
    "    elif box[-1] == 2:\n",
    "        x_min, y_min, x_max, y_max = int(box[0]), int(box[1]), int(box[2]), int(box[3])\n",
    "        persons.append((x_min, y_min, x_max, y_max))"
   ]
  },
  {
   "cell_type": "code",
   "execution_count": 17,
   "id": "0708db54-d977-46dc-ad4a-1548aeb354a5",
   "metadata": {
    "tags": []
   },
   "outputs": [],
   "source": [
    "ORIENTARE = \"NONE\""
   ]
  },
  {
   "cell_type": "code",
   "execution_count": 29,
   "id": "144532f6-80e4-4e55-b099-84a47aa79dd3",
   "metadata": {
    "tags": []
   },
   "outputs": [
    {
     "name": "stdout",
     "output_type": "stream",
     "text": [
      "got 1 crosswalk\n",
      "langa trecere, dar nu se uita in stanga sau dreapta\n"
     ]
    }
   ],
   "source": [
    "if len(crosswalks) == 0:\n",
    "    print(\"nici un pericol\")\n",
    "elif len(crosswalks) == 1:\n",
    "    print(\"got 1 crosswalk\")\n",
    "    for person in persons: \n",
    "        if crosswalks[0][0] < person[0] < crosswalks[0][2] and crosswalks[0][1] < person[3] < crosswalks[0][3]:\n",
    "            print(\"danger, pe trecere\")\n",
    "        elif crosswalks[0][1] < person[3] + 15 or crosswalks[0][3] > person[3] - 15:\n",
    "            if person[0] < crosswalks[0][2] + 350:\n",
    "                if ORIENTARE == \"LEFT\" or ORIENTARE == \"RIGHT\":\n",
    "                    print(\"warning, pe langa trecere\")\n",
    "                else:\n",
    "                    print(\"langa trecere, dar nu se uita in stanga sau dreapta\")\n",
    "        else:\n",
    "            print(\"nici un pericol\")"
   ]
  },
  {
   "cell_type": "code",
   "execution_count": null,
   "id": "4a8f8f1c-02f2-4e53-9d16-73f7d244137b",
   "metadata": {},
   "outputs": [],
   "source": []
  }
 ],
 "metadata": {
  "kernelspec": {
   "display_name": "Python 3 (ipykernel)",
   "language": "python",
   "name": "python3"
  },
  "language_info": {
   "codemirror_mode": {
    "name": "ipython",
    "version": 3
   },
   "file_extension": ".py",
   "mimetype": "text/x-python",
   "name": "python",
   "nbconvert_exporter": "python",
   "pygments_lexer": "ipython3",
   "version": "3.10.7"
  }
 },
 "nbformat": 4,
 "nbformat_minor": 5
}

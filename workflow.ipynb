{
 "cells": [
  {
   "cell_type": "markdown",
   "id": "20481ca6-12fe-45f9-873c-7161893e997a",
   "metadata": {},
   "source": [
    "## Imports"
   ]
  },
  {
   "cell_type": "code",
   "execution_count": 1,
   "id": "a6a5fab7-a275-4da0-81da-109bdbb78763",
   "metadata": {
    "tags": []
   },
   "outputs": [],
   "source": [
    "from ultralytics import YOLO\n",
    "from PIL import Image\n",
    "import mediapipe as mp\n",
    "import numpy as np\n",
    "import pandas as pd\n",
    "import cv2\n",
    "import os\n",
    "import sys\n",
    "\n",
    "from scripts import pose_estimator\n",
    "from scripts.classifier import classify_by_hip_distance"
   ]
  },
  {
   "cell_type": "markdown",
   "id": "e1eff8e6-eae7-4337-903b-c6b02c262cd3",
   "metadata": {},
   "source": [
    "## Setup"
   ]
  },
  {
   "cell_type": "code",
   "execution_count": 2,
   "id": "33dc77ee-f4f8-4abf-bec9-a93ef067c437",
   "metadata": {
    "tags": []
   },
   "outputs": [],
   "source": [
    "model = YOLO(r\"E:/GitHub/porsche-students-contest/best.pt\")"
   ]
  },
  {
   "cell_type": "code",
   "execution_count": 7,
   "id": "30dec797-2184-4673-b6d0-76014986361b",
   "metadata": {
    "tags": []
   },
   "outputs": [],
   "source": [
    "mp_drawing = mp.solutions.drawing_utils\n",
    "mp_drawing_styles = mp.solutions.drawing_styles\n",
    "mp_pose = mp.solutions.pose"
   ]
  },
  {
   "cell_type": "markdown",
   "id": "c8dfa115-7fcf-4d7c-8e0c-34eee95b6cc9",
   "metadata": {},
   "source": [
    "## Make predictions"
   ]
  },
  {
   "cell_type": "code",
   "execution_count": 52,
   "id": "4a6d9d76-f21d-4685-91ec-45ea34ab2b4f",
   "metadata": {
    "tags": []
   },
   "outputs": [],
   "source": [
    "source = Image.open(r\"E:\\GitHub\\porsche-students-contest\\images\\src9.jpg\")"
   ]
  },
  {
   "cell_type": "code",
   "execution_count": 53,
   "id": "123122ea-5bb3-45d1-8a24-3ec967b160f0",
   "metadata": {
    "tags": []
   },
   "outputs": [
    {
     "name": "stderr",
     "output_type": "stream",
     "text": [
      "\n",
      "0: 544x800 2 crosswalks, 1 person, 185.0ms\n",
      "Speed: 1.0ms preprocess, 185.0ms inference, 1.0ms postprocess per image at shape (1, 3, 800, 800)\n",
      "Results saved to \u001b[1mE:\\GitHub\\porsche-students-contest\\runs\\detect\\predict6\u001b[0m\n"
     ]
    }
   ],
   "source": [
    "results = model.predict(source=source, save=True)"
   ]
  },
  {
   "cell_type": "code",
   "execution_count": 54,
   "id": "5cde58e1-279f-4564-85ba-4d73e60198d9",
   "metadata": {
    "tags": []
   },
   "outputs": [],
   "source": [
    "crosswalks = []\n",
    "persons = []"
   ]
  },
  {
   "cell_type": "code",
   "execution_count": 55,
   "id": "227dc23d-35ec-4213-a0b3-9b747c9178f4",
   "metadata": {},
   "outputs": [],
   "source": [
    "for idx, box in enumerate(results[0].boxes.boxes):\n",
    "    if box[-1] == 1:\n",
    "        x_min, y_min, x_max, y_max = int(box[0]), int(box[1]), int(box[2]), int(box[3])\n",
    "        crosswalks.append((x_min, y_min, x_max, y_max))\n",
    "    elif box[-1] == 2:\n",
    "        x_min, y_min, x_max, y_max = int(box[0]), int(box[1]), int(box[2]), int(box[3])\n",
    "        persons.append((x_min, y_min, x_max, y_max))"
   ]
  },
  {
   "cell_type": "code",
   "execution_count": 58,
   "id": "144532f6-80e4-4e55-b099-84a47aa79dd3",
   "metadata": {
    "tags": []
   },
   "outputs": [
    {
     "name": "stdout",
     "output_type": "stream",
     "text": [
      "crosswalk 0:\n",
      "danger, pe trecere\n",
      "crosswalk 1:\n",
      "danger, pe trecere\n"
     ]
    }
   ],
   "source": [
    "if len(crosswalks) == 0:\n",
    "    print(\"nici un pericol\")\n",
    "elif len(crosswalks) == 1:\n",
    "    print(\"got 1 crosswalk\")\n",
    "    for person in persons: \n",
    "        if crosswalks[0][0] < person[0] < crosswalks[0][2] and crosswalks[0][1] < person[3] < crosswalks[0][3]:\n",
    "            print(\"danger, pe trecere\")\n",
    "        elif crosswalks[0][1] < person[3] + 15 or crosswalks[0][3] > person[3] - 15:\n",
    "            if person[0] < crosswalks[0][2] + 350:\n",
    "                # Get orientation :\n",
    "                landmarks = pose_estimator.get_pose_landmarks(np.asarray(source)[persons[0][1]:persons[0][3], persons[0][0]:persons[0][2]])\n",
    "                hips_label = classify_by_hip_distance(landmarks)\n",
    "                if hips_label == \"side\":\n",
    "                    print(\"warning, pe langa trecere\")\n",
    "                else:\n",
    "                    print(\"langa trecere, dar nu se uita in stanga sau dreapta\")\n",
    "        else:\n",
    "            print(\"nici un pericol\")\n",
    "elif len(crosswalks) > 1:\n",
    "    for idx, crosswalk in enumerate(crosswalks):\n",
    "        print(f'crosswalk {idx}:')\n",
    "        for person in persons: \n",
    "            if crosswalk[0] < person[0] < crosswalk[2] and crosswalk[1] < person[3] < crosswalk[3]:\n",
    "                print(\"danger, pe trecere\")\n",
    "            elif crosswalk[1] < person[3] + 15 or crosswalk[3] > person[3] - 15:\n",
    "                if person[0] < crosswalk[2] + 350:\n",
    "                    # Get orientation :\n",
    "                    landmarks = pose_estimator.get_pose_landmarks(np.asarray(source)[persons[0][1]:persons[0][3], persons[0][0]:persons[0][2]])\n",
    "                    hips_label = classify_by_hip_distance(landmarks)\n",
    "                    if hips_label == \"side\":\n",
    "                        print(\"warning, pe langa trecere\")\n",
    "                    else:\n",
    "                        print(\"langa trecere, dar nu se uita in stanga sau dreapta\")\n",
    "            else:\n",
    "                print(\"nici un pericol\")"
   ]
  },
  {
   "cell_type": "code",
   "execution_count": null,
   "id": "b149925d-8255-4ea6-afb5-2d930c1fd3fb",
   "metadata": {},
   "outputs": [],
   "source": []
  }
 ],
 "metadata": {
  "kernelspec": {
   "display_name": "Python 3 (ipykernel)",
   "language": "python",
   "name": "python3"
  },
  "language_info": {
   "codemirror_mode": {
    "name": "ipython",
    "version": 3
   },
   "file_extension": ".py",
   "mimetype": "text/x-python",
   "name": "python",
   "nbconvert_exporter": "python",
   "pygments_lexer": "ipython3",
   "version": "3.10.7"
  }
 },
 "nbformat": 4,
 "nbformat_minor": 5
}

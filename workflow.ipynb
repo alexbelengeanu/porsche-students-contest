{
 "cells": [
  {
   "cell_type": "markdown",
   "id": "20481ca6-12fe-45f9-873c-7161893e997a",
   "metadata": {},
   "source": [
    "## Imports"
   ]
  },
  {
   "cell_type": "code",
   "execution_count": 1,
   "id": "a6a5fab7-a275-4da0-81da-109bdbb78763",
   "metadata": {
    "tags": []
   },
   "outputs": [],
   "source": [
    "from ultralytics import YOLO\n",
    "from PIL import Image\n",
    "import mediapipe as mp\n",
    "import numpy as np\n",
    "import pandas as pd\n",
    "import cv2\n",
    "import os\n",
    "import sys\n",
    "\n",
    "from scripts import pose_estimator\n",
    "from scripts.classifier import classify_by_hip_distance"
   ]
  },
  {
   "cell_type": "markdown",
   "id": "e1eff8e6-eae7-4337-903b-c6b02c262cd3",
   "metadata": {},
   "source": [
    "## Setup"
   ]
  },
  {
   "cell_type": "code",
   "execution_count": 34,
   "id": "33dc77ee-f4f8-4abf-bec9-a93ef067c437",
   "metadata": {
    "tags": []
   },
   "outputs": [],
   "source": [
    "model = YOLO(r\"E:/GitHub/porsche-students-contest/best.pt\")"
   ]
  },
  {
   "cell_type": "code",
   "execution_count": 31,
   "id": "30dec797-2184-4673-b6d0-76014986361b",
   "metadata": {
    "tags": []
   },
   "outputs": [],
   "source": [
    "mp_drawing = mp.solutions.drawing_utils\n",
    "mp_drawing_styles = mp.solutions.drawing_styles\n",
    "mp_pose = mp.solutions.pose"
   ]
  },
  {
   "cell_type": "markdown",
   "id": "c8dfa115-7fcf-4d7c-8e0c-34eee95b6cc9",
   "metadata": {},
   "source": [
    "## Make predictions"
   ]
  },
  {
   "cell_type": "code",
   "execution_count": 73,
   "id": "4a6d9d76-f21d-4685-91ec-45ea34ab2b4f",
   "metadata": {
    "tags": []
   },
   "outputs": [],
   "source": [
    "source = Image.open(r\"E:\\GitHub\\porsche-students-contest\\images\\input1.jpeg\")"
   ]
  },
  {
   "cell_type": "code",
   "execution_count": 74,
   "id": "123122ea-5bb3-45d1-8a24-3ec967b160f0",
   "metadata": {
    "tags": []
   },
   "outputs": [
    {
     "name": "stderr",
     "output_type": "stream",
     "text": [
      "\n",
      "0: 608x800 1 crosswalk, 2 persons, 186.8ms\n",
      "Speed: 1.0ms preprocess, 186.8ms inference, 0.0ms postprocess per image at shape (1, 3, 800, 800)\n",
      "Results saved to \u001b[1mE:\\GitHub\\porsche-students-contest\\runs\\detect\\predict14\u001b[0m\n"
     ]
    }
   ],
   "source": [
    "results = model.predict(source=source, save=True)"
   ]
  },
  {
   "cell_type": "code",
   "execution_count": 47,
   "id": "5cde58e1-279f-4564-85ba-4d73e60198d9",
   "metadata": {
    "tags": []
   },
   "outputs": [],
   "source": [
    "crosswalks = []\n",
    "persons = []"
   ]
  },
  {
   "cell_type": "code",
   "execution_count": 48,
   "id": "227dc23d-35ec-4213-a0b3-9b747c9178f4",
   "metadata": {},
   "outputs": [],
   "source": [
    "for idx, box in enumerate(results[0].boxes.boxes):\n",
    "    if box[-1] == 1:\n",
    "        x_min, y_min, x_max, y_max = int(box[0]), int(box[1]), int(box[2]), int(box[3])\n",
    "        crosswalks.append((x_min, y_min, x_max, y_max))\n",
    "    elif box[-1] == 2:\n",
    "        x_min, y_min, x_max, y_max = int(box[0]), int(box[1]), int(box[2]), int(box[3])\n",
    "        persons.append((x_min, y_min, x_max, y_max))"
   ]
  },
  {
   "cell_type": "code",
   "execution_count": 69,
   "id": "144532f6-80e4-4e55-b099-84a47aa79dd3",
   "metadata": {
    "tags": []
   },
   "outputs": [
    {
     "name": "stdout",
     "output_type": "stream",
     "text": [
      "got 1 crosswalk\n",
      "langa trecere, dar nu se uita in stanga sau dreapta\n",
      "nici un pericol\n"
     ]
    }
   ],
   "source": [
    "if len(crosswalks) == 0:\n",
    "    print(\"nici un pericol\")\n",
    "elif len(crosswalks) == 1:\n",
    "    print(\"got 1 crosswalk\")\n",
    "    for person in persons: \n",
    "        if crosswalks[0][0] < person[0] < crosswalks[0][2] and crosswalks[0][1] < person[3] < crosswalks[0][3]:\n",
    "            print(\"danger, pe trecere\")\n",
    "        #elif crosswalks[0][1] < person[3] + 15 or person[3] - 15 < crosswalks[0][3] :\n",
    "        elif crosswalks[0][1] < person[3] + 15 < crosswalks[0][3]  or crosswalks[0][1] < person[3] - 15 < crosswalks[0][3] :\n",
    "            if person[0] < crosswalks[0][2] + 350:\n",
    "                # Get orientation :\n",
    "                landmarks = pose_estimator.get_pose_landmarks(np.asarray(source)[persons[0][1]:persons[0][3], persons[0][0]:persons[0][2]])\n",
    "                hips_label = classify_by_hip_distance(landmarks)\n",
    "                if hips_label == \"side\":\n",
    "                    print(\"warning, pe langa trecere\")\n",
    "                else:\n",
    "                    print(\"langa trecere, dar nu se uita in stanga sau dreapta\")\n",
    "        else:\n",
    "            print(\"nici un pericol\")\n",
    "elif len(crosswalks) > 1:\n",
    "    for idx, crosswalk in enumerate(crosswalks):\n",
    "        print(f'crosswalk {idx}:')\n",
    "        for person in persons: \n",
    "            if crosswalk[0] < person[0] < crosswalk[2] and crosswalk[1] < person[3] < crosswalk[3]:\n",
    "                print(\"danger, pe trecere\")\n",
    "            elif crosswalk[1] < person[3] + 15 or crosswalk[3] > person[3] - 15:\n",
    "                if person[0] < crosswalk[2] + 350:\n",
    "                    # Get orientation :\n",
    "                    landmarks = pose_estimator.get_pose_landmarks(np.asarray(source)[persons[0][1]:persons[0][3], persons[0][0]:persons[0][2]])\n",
    "                    hips_label = classify_by_hip_distance(landmarks)\n",
    "                    if hips_label == \"side\":\n",
    "                        print(\"warning, pe langa trecere\")\n",
    "                    else:\n",
    "                        print(\"langa trecere, dar nu se uita in stanga sau dreapta\")\n",
    "            else:\n",
    "                print(\"nici un pericol\")"
   ]
  },
  {
   "cell_type": "code",
   "execution_count": 59,
   "id": "b149925d-8255-4ea6-afb5-2d930c1fd3fb",
   "metadata": {
    "tags": []
   },
   "outputs": [
    {
     "name": "stdout",
     "output_type": "stream",
     "text": [
      "851\n"
     ]
    }
   ],
   "source": [
    "print(persons[1][3])"
   ]
  },
  {
   "cell_type": "code",
   "execution_count": 58,
   "id": "a0a23635-2057-4eb0-a252-ea21c8451288",
   "metadata": {
    "tags": []
   },
   "outputs": [
    {
     "name": "stdout",
     "output_type": "stream",
     "text": [
      "1305\n"
     ]
    }
   ],
   "source": [
    "print(crosswalks[0][3])"
   ]
  },
  {
   "cell_type": "code",
   "execution_count": 55,
   "id": "07bded2a-3c3f-46e2-8f41-fadfc214fb92",
   "metadata": {
    "tags": []
   },
   "outputs": [
    {
     "data": {
      "text/plain": [
       "(2048, 1536)"
      ]
     },
     "execution_count": 55,
     "metadata": {},
     "output_type": "execute_result"
    }
   ],
   "source": [
    "source.size"
   ]
  },
  {
   "cell_type": "code",
   "execution_count": null,
   "id": "97fd9b78-0185-498b-8575-ef6c112697f3",
   "metadata": {},
   "outputs": [],
   "source": [
    "crosswalks[0][1] < person[3] + 15 < crosswalks[0][3]  or crosswalks[0][1] < person[3] - 15 < crosswalks[0][3] :"
   ]
  },
  {
   "cell_type": "code",
   "execution_count": 64,
   "id": "2006a791-7c81-4327-be21-277553fe8e2a",
   "metadata": {
    "tags": []
   },
   "outputs": [
    {
     "data": {
      "text/plain": [
       "1022"
      ]
     },
     "execution_count": 64,
     "metadata": {},
     "output_type": "execute_result"
    }
   ],
   "source": [
    "crosswalks[0][1]"
   ]
  },
  {
   "cell_type": "code",
   "execution_count": 65,
   "id": "2dc4f162-fb0e-4381-a4a9-bd9732bed74c",
   "metadata": {
    "tags": []
   },
   "outputs": [
    {
     "data": {
      "text/plain": [
       "866"
      ]
     },
     "execution_count": 65,
     "metadata": {},
     "output_type": "execute_result"
    }
   ],
   "source": [
    "persons[1][3] + 15"
   ]
  },
  {
   "cell_type": "code",
   "execution_count": 66,
   "id": "2dc7ab96-2304-4521-b3a2-d5115ad965a0",
   "metadata": {
    "tags": []
   },
   "outputs": [
    {
     "data": {
      "text/plain": [
       "False"
      ]
     },
     "execution_count": 66,
     "metadata": {},
     "output_type": "execute_result"
    }
   ],
   "source": [
    "crosswalks[0][1] < persons[1][3] + 15"
   ]
  },
  {
   "cell_type": "code",
   "execution_count": 67,
   "id": "6c3eca4d-dfd3-482c-9ef9-633f66bfddcc",
   "metadata": {
    "tags": []
   },
   "outputs": [
    {
     "data": {
      "text/plain": [
       "1305"
      ]
     },
     "execution_count": 67,
     "metadata": {},
     "output_type": "execute_result"
    }
   ],
   "source": [
    "crosswalks[0][3]"
   ]
  },
  {
   "cell_type": "code",
   "execution_count": 68,
   "id": "6e75444f-db49-42e1-9701-eb4cebfc4c9b",
   "metadata": {
    "tags": []
   },
   "outputs": [
    {
     "data": {
      "text/plain": [
       "836"
      ]
     },
     "execution_count": 68,
     "metadata": {},
     "output_type": "execute_result"
    }
   ],
   "source": [
    "person[3] - 15"
   ]
  },
  {
   "cell_type": "code",
   "execution_count": 75,
   "id": "064b1982-78de-4175-a13b-ab72d9973460",
   "metadata": {},
   "outputs": [],
   "source": [
    "Image.fromarray(results[0].orig_img).show()"
   ]
  },
  {
   "cell_type": "code",
   "execution_count": 77,
   "id": "53dbc8ff-b505-475c-a43a-ef978ebd8c7d",
   "metadata": {
    "tags": []
   },
   "outputs": [
    {
     "data": {
      "text/plain": [
       "'E:\\\\GitHub\\\\porsche-students-contest\\\\images\\\\input1.jpeg'"
      ]
     },
     "execution_count": 77,
     "metadata": {},
     "output_type": "execute_result"
    }
   ],
   "source": [
    "results[0].path"
   ]
  },
  {
   "cell_type": "code",
   "execution_count": null,
   "id": "5e3b5b40-af89-4c23-8335-a6ed46914dbc",
   "metadata": {},
   "outputs": [],
   "source": []
  }
 ],
 "metadata": {
  "kernelspec": {
   "display_name": "Python 3 (ipykernel)",
   "language": "python",
   "name": "python3"
  },
  "language_info": {
   "codemirror_mode": {
    "name": "ipython",
    "version": 3
   },
   "file_extension": ".py",
   "mimetype": "text/x-python",
   "name": "python",
   "nbconvert_exporter": "python",
   "pygments_lexer": "ipython3",
   "version": "3.10.7"
  }
 },
 "nbformat": 4,
 "nbformat_minor": 5
}

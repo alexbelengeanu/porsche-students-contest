{
 "cells": [
  {
   "cell_type": "code",
   "execution_count": 1,
   "id": "2794dc65-b48a-4d37-8792-3b5414063f9e",
   "metadata": {
    "tags": []
   },
   "outputs": [],
   "source": [
    "from pycocotools.coco import COCO\n",
    "import requests\n",
    "import cv2"
   ]
  },
  {
   "cell_type": "markdown",
   "id": "e489382c-cf54-4e15-bd35-e5000a70ff7b",
   "metadata": {},
   "source": [
    "## Download COCO samples for `person` class"
   ]
  },
  {
   "cell_type": "markdown",
   "id": "b8c0b59c-4c63-412b-b254-d9827a3a52fc",
   "metadata": {},
   "source": [
    "### Load annotations"
   ]
  },
  {
   "cell_type": "code",
   "execution_count": 2,
   "id": "00693ad5-aab6-49f7-ac1b-3d97ef3ee399",
   "metadata": {
    "tags": []
   },
   "outputs": [
    {
     "name": "stdout",
     "output_type": "stream",
     "text": [
      "loading annotations into memory...\n",
      "Done (t=13.60s)\n",
      "creating index...\n",
      "index created!\n"
     ]
    }
   ],
   "source": [
    "coco = COCO(r\"E:\\GitHub\\porsche-students-contest\\dataset\\coco-related\\annotations_trainval2017\\annotations\\instances_train2017.json\")"
   ]
  },
  {
   "cell_type": "markdown",
   "id": "92f8f7f9-de36-4b66-98f4-daed9fdb6f28",
   "metadata": {},
   "source": [
    "### Get only ids from `person` class"
   ]
  },
  {
   "cell_type": "code",
   "execution_count": 3,
   "id": "4ca5d01a-3904-406c-b49c-885190934657",
   "metadata": {
    "tags": []
   },
   "outputs": [],
   "source": [
    "catIds = coco.getCatIds(catNms=['person'])"
   ]
  },
  {
   "cell_type": "code",
   "execution_count": 4,
   "id": "8d8638c3-503a-41fe-9839-09899f11572d",
   "metadata": {
    "tags": []
   },
   "outputs": [],
   "source": [
    "imgIds = coco.getImgIds(catIds=catIds)\n",
    "images = coco.loadImgs(imgIds)"
   ]
  },
  {
   "cell_type": "markdown",
   "id": "745750c3-4501-4488-9fd5-852c73d1dcd9",
   "metadata": {},
   "source": [
    "### Take each image and it's annotations and save them locally"
   ]
  },
  {
   "cell_type": "code",
   "execution_count": 7,
   "id": "d64cea14-652e-46fb-8f9d-72ce76a2c4c0",
   "metadata": {
    "tags": []
   },
   "outputs": [],
   "source": [
    "for idx, im in enumerate(images):\n",
    "    if idx < 3682:\n",
    "        # Get image from `coco_url`\n",
    "        img_data = requests.get(im['coco_url']).content\n",
    "\n",
    "        #  Get image data, such as ID, width and height and filename\n",
    "        img_id = im['id']\n",
    "        img_width = im['width']\n",
    "        img_height = im['height']\n",
    "        file_name = im['file_name'].split(\".\")[0]\n",
    "\n",
    "        # Load annotations for that specific image\n",
    "        annId = coco.getAnnIds(imgIds=im['id'], catIds=catIds)\n",
    "        anns = coco.loadAnns(annId)\n",
    "\n",
    "        # Write annotations file in annotations folder\n",
    "        file_object = open(r\"E:/GitHub/porsche-students-contest/dataset/coco-related/person/labels/\" + file_name + \".txt\", \"a\")\n",
    "\n",
    "        # Convert annotations from COCO to YOLO format\n",
    "        for ann in anns:\n",
    "            current_category = 2\n",
    "            current_bbox = ann['bbox']\n",
    "            x = current_bbox[0]\n",
    "            y = current_bbox[1]\n",
    "            w = current_bbox[2]\n",
    "            h = current_bbox[3]\n",
    "\n",
    "            # Finding midpoints\n",
    "            x_centre = (x + (x+w))/2\n",
    "            y_centre = (y + (y+h))/2\n",
    "\n",
    "            # Normalization\n",
    "            x_centre = x_centre / img_width\n",
    "            y_centre = y_centre / img_height\n",
    "            w = w / img_width\n",
    "            h = h / img_height\n",
    "\n",
    "            # Limiting upto fix number of decimal places\n",
    "            x_centre = format(x_centre, '.6f')\n",
    "            y_centre = format(y_centre, '.6f')\n",
    "            w = format(w, '.6f')\n",
    "            h = format(h, '.6f')\n",
    "\n",
    "            # Writing current annotation\n",
    "            file_object.write(f\"{current_category} {x_centre} {y_centre} {w} {h}\\n\")\n",
    "            \n",
    "        # Close file_object for current sample\n",
    "        file_object.close()\n",
    "\n",
    "        # Write image in images folder\n",
    "        with open(r'E:/GitHub/porsche-students-contest/dataset/coco-related/person/images/' + im['file_name'], 'wb') as handler:\n",
    "            handler.write(img_data)\n",
    "        \n",
    "    else:\n",
    "        break"
   ]
  },
  {
   "cell_type": "markdown",
   "id": "861fc1b0-c661-488d-9a1f-dba71111ca56",
   "metadata": {},
   "source": [
    "### Split `person` dataset into train-test-val"
   ]
  },
  {
   "cell_type": "code",
   "execution_count": 8,
   "id": "a6a21bed-fba2-4f19-8037-a37bf7eb82cb",
   "metadata": {
    "tags": []
   },
   "outputs": [],
   "source": [
    "import random\n",
    "import shutil\n",
    "import os"
   ]
  },
  {
   "cell_type": "code",
   "execution_count": 10,
   "id": "84e11adf-bbdc-4c9f-820f-5164ddb0715d",
   "metadata": {
    "tags": []
   },
   "outputs": [],
   "source": [
    "imgs_path = r\"E:/GitHub/porsche-students-contest/dataset/coco-related/person/images/\"\n",
    "lbls_path = r\"E:/GitHub/porsche-students-contest/dataset/coco-related/person/labels/\"\n",
    "\n",
    "test_imgs_path = r\"E:/GitHub/porsche-students-contest/dataset/test/images/\"\n",
    "test_lbls_path = r\"E:/GitHub/porsche-students-contest/dataset/test/labels/\"\n",
    "\n",
    "val_imgs_path = r\"E:/GitHub/porsche-students-contest/dataset/validation/images/\"\n",
    "val_lbls_path = r\"E:/GitHub/porsche-students-contest/dataset/validation/labels/\""
   ]
  },
  {
   "cell_type": "code",
   "execution_count": 14,
   "id": "455fb9e7-e73b-4db9-aea9-dde2df968a70",
   "metadata": {
    "tags": []
   },
   "outputs": [],
   "source": [
    "# Read images\n",
    "images = os.listdir(imgs_path)\n",
    "\n",
    "# Select random indexes for test dataset\n",
    "random_test_idxs = random.sample(range(len(images)), 398)\n",
    "\n",
    "# Move images from base to test\n",
    "for idx in random_test_idxs:\n",
    "    filename = images[idx].split(\".\")[0]\n",
    "    shutil.move(os.path.join(imgs_path, images[idx]), os.path.join(test_imgs_path, images[idx]))\n",
    "    shutil.move(os.path.join(lbls_path, filename + \".txt\"), os.path.join(test_lbls_path, filename + \".txt\"))"
   ]
  },
  {
   "cell_type": "code",
   "execution_count": 15,
   "id": "fcb97a2d-5630-49c2-aef9-5248316e02e3",
   "metadata": {
    "tags": []
   },
   "outputs": [],
   "source": [
    "# Read the remaining images\n",
    "images = os.listdir(imgs_path)\n",
    "\n",
    "# Select random indexes for validation dataset\n",
    "random_val_idxs = random.sample(range(len(images)), 750)\n",
    "\n",
    "# Move images from base to validation\n",
    "for idx in random_val_idxs:\n",
    "    filename = images[idx].split(\".\")[0]\n",
    "    shutil.move(os.path.join(imgs_path, images[idx]), os.path.join(val_imgs_path, images[idx]))\n",
    "    shutil.move(os.path.join(lbls_path, filename + \".txt\"), os.path.join(val_lbls_path, filename + \".txt\"))"
   ]
  },
  {
   "cell_type": "markdown",
   "id": "05734c88-7f0a-40cf-b4d2-7a48aff9a27b",
   "metadata": {},
   "source": [
    "## Change class for latest photos"
   ]
  },
  {
   "cell_type": "code",
   "execution_count": 2,
   "id": "e65e1efe-08fc-44de-adc3-06190838cd75",
   "metadata": {
    "tags": []
   },
   "outputs": [],
   "source": [
    "import os"
   ]
  },
  {
   "cell_type": "code",
   "execution_count": 21,
   "id": "d4a8154c-74db-4f4f-948c-29e6240b8a68",
   "metadata": {
    "tags": []
   },
   "outputs": [],
   "source": [
    "labels = os.listdir(r\"E:/GitHub/porsche-students-contest/dataset/train/labels\")"
   ]
  },
  {
   "cell_type": "code",
   "execution_count": 22,
   "id": "390f3e58-48ca-4bfb-b5a6-50cebd68732a",
   "metadata": {
    "tags": []
   },
   "outputs": [],
   "source": [
    "labels_new = [label for label in labels if \"Strisce\" in label]"
   ]
  },
  {
   "cell_type": "code",
   "execution_count": 23,
   "id": "fce56c62-b902-40e0-bffc-aa1d365bc309",
   "metadata": {
    "tags": []
   },
   "outputs": [],
   "source": [
    "for label in labels_new:\n",
    "    lines = []\n",
    "    with open(os.path.join(r\"E:/GitHub/porsche-students-contest/dataset/train/labels\", label)) as file_in:\n",
    "        for line in file_in:\n",
    "            lines.append(line)\n",
    "    new_lines = []\n",
    "    for line in lines:\n",
    "        if line[0] == \"0\":\n",
    "            new_line = \"1\" + line[1:]\n",
    "            new_lines.append(new_line)\n",
    "    os.remove(os.path.join(r\"E:/GitHub/porsche-students-contest/dataset/train/labels\", label))\n",
    "    with open(os.path.join(r\"E:/GitHub/porsche-students-contest/dataset/train/labels\", label), 'w') as f:\n",
    "        for line in new_lines:\n",
    "            f.write(line)"
   ]
  },
  {
   "cell_type": "code",
   "execution_count": null,
   "id": "e0621e1f-8065-449e-a5a1-0185c405923c",
   "metadata": {},
   "outputs": [],
   "source": []
  }
 ],
 "metadata": {
  "kernelspec": {
   "display_name": "Python 3 (ipykernel)",
   "language": "python",
   "name": "python3"
  },
  "language_info": {
   "codemirror_mode": {
    "name": "ipython",
    "version": 3
   },
   "file_extension": ".py",
   "mimetype": "text/x-python",
   "name": "python",
   "nbconvert_exporter": "python",
   "pygments_lexer": "ipython3",
   "version": "3.10.7"
  }
 },
 "nbformat": 4,
 "nbformat_minor": 5
}

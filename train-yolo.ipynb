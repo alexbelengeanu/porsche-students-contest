{
 "cells": [
  {
   "cell_type": "code",
   "execution_count": 2,
   "id": "fce172ff-36f7-41d4-9a07-65eee96c7833",
   "metadata": {
    "tags": []
   },
   "outputs": [],
   "source": [
    "from ultralytics import YOLO"
   ]
  },
  {
   "cell_type": "markdown",
   "id": "0b130807-b7c4-41c9-974f-50d7ee200fb0",
   "metadata": {},
   "source": [
    "## Train detection model"
   ]
  },
  {
   "cell_type": "code",
   "execution_count": null,
   "id": "7e8758c6-63c2-41c6-9007-9be6ff1cb148",
   "metadata": {
    "tags": []
   },
   "outputs": [],
   "source": [
    "# Load a model\n",
    "model = YOLO(\"yolov8s.pt\")"
   ]
  },
  {
   "cell_type": "code",
   "execution_count": null,
   "id": "6cf9eb6b-ab0f-4ae4-a8e6-c8dcd799bc7b",
   "metadata": {
    "tags": []
   },
   "outputs": [],
   "source": [
    "!yolo task=detect mode=train model=yolov8n.pt data=E:/GitHub/porsche-students-contest/dataset/data.yaml epochs=10 device=0 batch=4 imgsz=800 plots=True"
   ]
  },
  {
   "cell_type": "markdown",
   "id": "d8bac7f4-b90a-4e79-8351-1686b0f9edb8",
   "metadata": {},
   "source": [
    "## Try the trained model"
   ]
  },
  {
   "cell_type": "code",
   "execution_count": null,
   "id": "c4815580-f61e-4460-bee6-4532b61c1d11",
   "metadata": {},
   "outputs": [],
   "source": [
    "train5 : yolov8m\n",
    "train6: yolov8n\n",
    "train4: yolov8s"
   ]
  },
  {
   "cell_type": "code",
   "execution_count": 3,
   "id": "96d4208e-61a3-4e5c-9e7e-75a8550ed9a5",
   "metadata": {
    "tags": []
   },
   "outputs": [],
   "source": [
    "from PIL import Image\n",
    "import cv2\n",
    "import numpy as np\n",
    "import os"
   ]
  },
  {
   "cell_type": "code",
   "execution_count": null,
   "id": "75d4f7d4-ad24-4158-a3c4-c90ab1ceff67",
   "metadata": {
    "tags": []
   },
   "outputs": [],
   "source": [
    "model"
   ]
  },
  {
   "cell_type": "code",
   "execution_count": null,
   "id": "c7580f82-618b-43bb-b2b1-3e184b83160b",
   "metadata": {
    "tags": []
   },
   "outputs": [],
   "source": [
    "del(model)"
   ]
  },
  {
   "cell_type": "code",
   "execution_count": null,
   "id": "c9a7b6a1-75b4-4bd5-8991-9bbe377f5936",
   "metadata": {
    "tags": []
   },
   "outputs": [],
   "source": [
    "model = YOLO(r\"E:/GitHub/porsche-students-contest/runs/detect/train4/weights/best.pt\")"
   ]
  },
  {
   "cell_type": "code",
   "execution_count": null,
   "id": "d671b272-184c-49e5-a282-af9c887b7ebc",
   "metadata": {
    "tags": []
   },
   "outputs": [],
   "source": [
    "im1 = Image.open(r\"E:/GitHub/porsche-students-contest/images/src7.jpg\")\n",
    "results = model.predict(source=im1, save=True)  # save plotted images"
   ]
  },
  {
   "cell_type": "markdown",
   "id": "f9aa161c-1fc3-4b0d-b1aa-4a2ea27be1fe",
   "metadata": {},
   "source": [
    "## Save some cropped persons to try the orientation script"
   ]
  },
  {
   "cell_type": "code",
   "execution_count": null,
   "id": "f0344acd-431f-4621-af58-76f45d4e6b15",
   "metadata": {
    "tags": []
   },
   "outputs": [],
   "source": [
    "del(model)"
   ]
  },
  {
   "cell_type": "code",
   "execution_count": 1,
   "id": "6f52b454-b8f0-43aa-ae37-d4d247f508e7",
   "metadata": {
    "tags": []
   },
   "outputs": [],
   "source": [
    "import os\n",
    "from PIL import Image"
   ]
  },
  {
   "cell_type": "code",
   "execution_count": 4,
   "id": "8c4f6fec-c2d8-4682-b171-e51c31e137f6",
   "metadata": {
    "tags": []
   },
   "outputs": [],
   "source": [
    "model = YOLO(r\"E:\\GitHub\\porsche-students-contest\\best.pt\")"
   ]
  },
  {
   "cell_type": "code",
   "execution_count": 5,
   "id": "20daf05f-e7ea-411d-b2e3-7c5e7cdc8106",
   "metadata": {
    "tags": []
   },
   "outputs": [
    {
     "name": "stderr",
     "output_type": "stream",
     "text": [
      "\n",
      "0: 608x800 1 crosswalk, 2 persons, 192.0ms\n",
      "Speed: 1.0ms preprocess, 192.0ms inference, 1.0ms postprocess per image at shape (1, 3, 800, 800)\n",
      "Results saved to \u001b[1mE:\\GitHub\\porsche-students-contest\\runs\\detect\\predict8\u001b[0m\n",
      "\n",
      "0: 608x800 1 crosswalk, 3 persons, 179.4ms\n",
      "Speed: 1.0ms preprocess, 179.4ms inference, 0.0ms postprocess per image at shape (1, 3, 800, 800)\n",
      "Results saved to \u001b[1mE:\\GitHub\\porsche-students-contest\\runs\\detect\\predict8\u001b[0m\n",
      "\n",
      "0: 608x800 1 crosswalk, 1 person, 172.0ms\n",
      "Speed: 1.0ms preprocess, 172.0ms inference, 0.0ms postprocess per image at shape (1, 3, 800, 800)\n",
      "Results saved to \u001b[1mE:\\GitHub\\porsche-students-contest\\runs\\detect\\predict8\u001b[0m\n",
      "\n",
      "0: 608x800 1 crosswalk, 1 person, 160.7ms\n",
      "Speed: 0.0ms preprocess, 160.7ms inference, 0.0ms postprocess per image at shape (1, 3, 800, 800)\n",
      "Results saved to \u001b[1mE:\\GitHub\\porsche-students-contest\\runs\\detect\\predict8\u001b[0m\n",
      "\n",
      "0: 544x800 1 person, 200.0ms\n",
      "Speed: 0.0ms preprocess, 200.0ms inference, 0.0ms postprocess per image at shape (1, 3, 800, 800)\n",
      "Results saved to \u001b[1mE:\\GitHub\\porsche-students-contest\\runs\\detect\\predict8\u001b[0m\n",
      "\n",
      "0: 480x800 1 person, 162.5ms\n",
      "Speed: 0.0ms preprocess, 162.5ms inference, 0.0ms postprocess per image at shape (1, 3, 800, 800)\n",
      "Results saved to \u001b[1mE:\\GitHub\\porsche-students-contest\\runs\\detect\\predict8\u001b[0m\n",
      "\n",
      "0: 544x800 1 crosswalk, 2 persons, 161.5ms\n",
      "Speed: 0.0ms preprocess, 161.5ms inference, 1.0ms postprocess per image at shape (1, 3, 800, 800)\n",
      "Results saved to \u001b[1mE:\\GitHub\\porsche-students-contest\\runs\\detect\\predict8\u001b[0m\n",
      "\n",
      "0: 544x800 1 person, 172.5ms\n",
      "Speed: 1.0ms preprocess, 172.5ms inference, 0.0ms postprocess per image at shape (1, 3, 800, 800)\n",
      "Results saved to \u001b[1mE:\\GitHub\\porsche-students-contest\\runs\\detect\\predict8\u001b[0m\n",
      "\n",
      "0: 544x800 2 persons, 172.5ms\n",
      "Speed: 1.0ms preprocess, 172.5ms inference, 1.0ms postprocess per image at shape (1, 3, 800, 800)\n",
      "Results saved to \u001b[1mE:\\GitHub\\porsche-students-contest\\runs\\detect\\predict8\u001b[0m\n",
      "\n",
      "0: 480x800 1 crosswalk, 151.5ms\n",
      "Speed: 1.0ms preprocess, 151.5ms inference, 1.0ms postprocess per image at shape (1, 3, 800, 800)\n",
      "Results saved to \u001b[1mE:\\GitHub\\porsche-students-contest\\runs\\detect\\predict8\u001b[0m\n",
      "\n",
      "0: 480x800 1 crosswalk, 2 persons, 155.5ms\n",
      "Speed: 1.0ms preprocess, 155.5ms inference, 1.0ms postprocess per image at shape (1, 3, 800, 800)\n",
      "Results saved to \u001b[1mE:\\GitHub\\porsche-students-contest\\runs\\detect\\predict8\u001b[0m\n",
      "\n",
      "0: 544x800 1 crosswalk, 1 person, 182.0ms\n",
      "Speed: 0.0ms preprocess, 182.0ms inference, 1.0ms postprocess per image at shape (1, 3, 800, 800)\n",
      "Results saved to \u001b[1mE:\\GitHub\\porsche-students-contest\\runs\\detect\\predict8\u001b[0m\n",
      "\n",
      "0: 608x800 1 person, 202.2ms\n",
      "Speed: 1.0ms preprocess, 202.2ms inference, 1.0ms postprocess per image at shape (1, 3, 800, 800)\n",
      "Results saved to \u001b[1mE:\\GitHub\\porsche-students-contest\\runs\\detect\\predict8\u001b[0m\n",
      "\n",
      "0: 640x800 4 persons, 224.0ms\n",
      "Speed: 0.0ms preprocess, 224.0ms inference, 0.0ms postprocess per image at shape (1, 3, 800, 800)\n",
      "Results saved to \u001b[1mE:\\GitHub\\porsche-students-contest\\runs\\detect\\predict8\u001b[0m\n",
      "\n",
      "0: 480x800 1 crosswalk, 6 persons, 144.7ms\n",
      "Speed: 0.0ms preprocess, 144.7ms inference, 0.0ms postprocess per image at shape (1, 3, 800, 800)\n",
      "Results saved to \u001b[1mE:\\GitHub\\porsche-students-contest\\runs\\detect\\predict8\u001b[0m\n",
      "\n",
      "0: 480x800 3 persons, 153.0ms\n",
      "Speed: 1.0ms preprocess, 153.0ms inference, 1.0ms postprocess per image at shape (1, 3, 800, 800)\n",
      "Results saved to \u001b[1mE:\\GitHub\\porsche-students-contest\\runs\\detect\\predict8\u001b[0m\n",
      "\n",
      "0: 512x800 1 crosswalk, 4 persons, 181.7ms\n",
      "Speed: 1.0ms preprocess, 181.7ms inference, 1.0ms postprocess per image at shape (1, 3, 800, 800)\n",
      "Results saved to \u001b[1mE:\\GitHub\\porsche-students-contest\\runs\\detect\\predict8\u001b[0m\n",
      "\n",
      "0: 800x608 1 crosswalk, 214.1ms\n",
      "Speed: 1.0ms preprocess, 214.1ms inference, 1.0ms postprocess per image at shape (1, 3, 800, 800)\n",
      "Results saved to \u001b[1mE:\\GitHub\\porsche-students-contest\\runs\\detect\\predict8\u001b[0m\n",
      "\n",
      "0: 576x800 23 persons, 186.2ms\n",
      "Speed: 1.0ms preprocess, 186.2ms inference, 0.0ms postprocess per image at shape (1, 3, 800, 800)\n",
      "Results saved to \u001b[1mE:\\GitHub\\porsche-students-contest\\runs\\detect\\predict8\u001b[0m\n",
      "\n",
      "0: 480x800 1 crosswalk, 150.0ms\n",
      "Speed: 1.0ms preprocess, 150.0ms inference, 1.0ms postprocess per image at shape (1, 3, 800, 800)\n",
      "Results saved to \u001b[1mE:\\GitHub\\porsche-students-contest\\runs\\detect\\predict8\u001b[0m\n",
      "\n",
      "0: 544x800 1 person, 174.7ms\n",
      "Speed: 0.0ms preprocess, 174.7ms inference, 0.0ms postprocess per image at shape (1, 3, 800, 800)\n",
      "Results saved to \u001b[1mE:\\GitHub\\porsche-students-contest\\runs\\detect\\predict8\u001b[0m\n",
      "\n",
      "0: 608x800 3 crosswalks, 190.3ms\n",
      "Speed: 0.0ms preprocess, 190.3ms inference, 1.0ms postprocess per image at shape (1, 3, 800, 800)\n",
      "Results saved to \u001b[1mE:\\GitHub\\porsche-students-contest\\runs\\detect\\predict8\u001b[0m\n",
      "\n",
      "0: 480x800 1 crosswalk, 157.0ms\n",
      "Speed: 1.0ms preprocess, 157.0ms inference, 0.0ms postprocess per image at shape (1, 3, 800, 800)\n",
      "Results saved to \u001b[1mE:\\GitHub\\porsche-students-contest\\runs\\detect\\predict8\u001b[0m\n",
      "\n",
      "0: 480x800 1 crosswalk, 1 person, 152.5ms\n",
      "Speed: 1.0ms preprocess, 152.5ms inference, 0.0ms postprocess per image at shape (1, 3, 800, 800)\n",
      "Results saved to \u001b[1mE:\\GitHub\\porsche-students-contest\\runs\\detect\\predict8\u001b[0m\n",
      "\n",
      "0: 544x800 2 crosswalks, 1 person, 177.9ms\n",
      "Speed: 1.0ms preprocess, 177.9ms inference, 1.0ms postprocess per image at shape (1, 3, 800, 800)\n",
      "Results saved to \u001b[1mE:\\GitHub\\porsche-students-contest\\runs\\detect\\predict8\u001b[0m\n"
     ]
    }
   ],
   "source": [
    "for img in os.listdir(r\"E:/GitHub/porsche-students-contest/images/\"):\n",
    "    image = Image.open(os.path.join(r\"E:/GitHub/porsche-students-contest/images/\", img))\n",
    "    results = model.predict(source=image, save=True)"
   ]
  },
  {
   "cell_type": "code",
   "execution_count": null,
   "id": "079bbf23-29c8-4cb4-97a2-279f1116744e",
   "metadata": {
    "tags": []
   },
   "outputs": [],
   "source": [
    "pose_sample_1 = Image.open(r\"E:/GitHub/porsche-students-contest/images/src9.jpg\")\n",
    "results = model.predict(source=pose_sample_1, save=True)  # save plotted images"
   ]
  },
  {
   "cell_type": "code",
   "execution_count": null,
   "id": "4148e24c-e98a-490e-a5e8-7edf1d25af19",
   "metadata": {
    "tags": []
   },
   "outputs": [],
   "source": [
    "print(results[0]._keys)"
   ]
  },
  {
   "cell_type": "code",
   "execution_count": null,
   "id": "0fc24cf1-6b5e-4be4-9869-616c2e8e7f48",
   "metadata": {
    "tags": []
   },
   "outputs": [],
   "source": [
    "print(results[0].boxes.boxes[0])"
   ]
  },
  {
   "cell_type": "code",
   "execution_count": null,
   "id": "f9771601-dc3f-4a55-ac78-4ebbc50287dd",
   "metadata": {
    "tags": []
   },
   "outputs": [],
   "source": [
    "pose_sample_1.show()"
   ]
  },
  {
   "cell_type": "code",
   "execution_count": null,
   "id": "6da54d5d-8445-4700-ba6e-ede6d6dbbdc7",
   "metadata": {
    "tags": []
   },
   "outputs": [],
   "source": [
    "bbox_coordinates = results[0].boxes.boxes[1]"
   ]
  },
  {
   "cell_type": "code",
   "execution_count": null,
   "id": "56a1ee0e-d7e8-487c-93e6-5cacf2afc7c8",
   "metadata": {
    "tags": []
   },
   "outputs": [],
   "source": [
    "x_min, y_min, x_max, y_max = int(bbox_coordinates[0]), int(bbox_coordinates[1]), \\\n",
    "            int(bbox_coordinates[2]), int(bbox_coordinates[3])"
   ]
  },
  {
   "cell_type": "code",
   "execution_count": null,
   "id": "4c50867c-e58a-4852-a42b-60ec3e0fdfbb",
   "metadata": {
    "tags": []
   },
   "outputs": [],
   "source": [
    "pose_sample_1_copy = np.asarray(pose_sample_1)"
   ]
  },
  {
   "cell_type": "code",
   "execution_count": null,
   "id": "7534f96e-157f-4c3b-8128-189b637c835c",
   "metadata": {
    "tags": []
   },
   "outputs": [],
   "source": [
    "start_point = (x_min, y_min)\n",
    "end_point = (x_max, y_max)"
   ]
  },
  {
   "cell_type": "code",
   "execution_count": null,
   "id": "7280c119-eb34-4875-b696-38a31170df1d",
   "metadata": {
    "tags": []
   },
   "outputs": [],
   "source": [
    "color = (255, 0, 0)"
   ]
  },
  {
   "cell_type": "code",
   "execution_count": null,
   "id": "de954b9f-635c-4c66-b475-f95aff07872f",
   "metadata": {
    "tags": []
   },
   "outputs": [],
   "source": [
    "pose_sample_1_copy = cv2.rectangle(pose_sample_1_copy,\n",
    "                                   start_point,\n",
    "                                   end_point,\n",
    "                                   color,\n",
    "                                   2)"
   ]
  },
  {
   "cell_type": "code",
   "execution_count": null,
   "id": "0c77560b-69b3-48a1-9517-91ab5a6aab9e",
   "metadata": {
    "tags": []
   },
   "outputs": [],
   "source": [
    "Image.fromarray(pose_sample_1_copy).show()"
   ]
  },
  {
   "cell_type": "code",
   "execution_count": null,
   "id": "02c7ef09-9185-49e9-b2f0-10990e0886e8",
   "metadata": {
    "tags": []
   },
   "outputs": [],
   "source": [
    "pose_sample_1_copy = pose_sample_1_copy[y_min:y_max, x_min:x_max]"
   ]
  },
  {
   "cell_type": "code",
   "execution_count": null,
   "id": "9e76b877-6a61-435c-a721-f245a0dbe1bf",
   "metadata": {
    "tags": []
   },
   "outputs": [],
   "source": [
    "Image.fromarray(pose_sample_1_copy).show()"
   ]
  },
  {
   "cell_type": "code",
   "execution_count": null,
   "id": "8a129098-0520-475d-88d7-422ec643a877",
   "metadata": {
    "tags": []
   },
   "outputs": [],
   "source": [
    "Image.fromarray(pose_sample_1_copy).convert(\"RGB\").save(r\"E:/GitHub/porsche-students-contest/images/pose_cropped7.jpg\")"
   ]
  },
  {
   "cell_type": "markdown",
   "id": "260e1c52-9124-4d93-8c6c-612dd2d55fa3",
   "metadata": {},
   "source": [
    "## Convert to onnx"
   ]
  },
  {
   "cell_type": "code",
   "execution_count": 1,
   "id": "2d0bf3c9-930d-4a20-b1ff-6c35a77fb667",
   "metadata": {
    "tags": []
   },
   "outputs": [],
   "source": [
    "from ultralytics import YOLO"
   ]
  },
  {
   "cell_type": "code",
   "execution_count": 2,
   "id": "97cfcce8-947d-4b18-bb24-8afbd56a5a94",
   "metadata": {
    "tags": []
   },
   "outputs": [],
   "source": [
    "model = YOLO(r\"E:\\GitHub\\porsche-students-contest\\best.pt\")"
   ]
  },
  {
   "cell_type": "code",
   "execution_count": 4,
   "id": "f39385de-09dc-4bd3-8d59-a599fcbb62e2",
   "metadata": {
    "tags": []
   },
   "outputs": [
    {
     "name": "stderr",
     "output_type": "stream",
     "text": [
      "Ultralytics YOLOv8.0.59  Python-3.10.7 torch-2.0.0+cpu CPU\n",
      "Model summary (fused): 168 layers, 11126745 parameters, 0 gradients, 28.4 GFLOPs\n",
      "\n",
      "\u001b[34m\u001b[1mPyTorch:\u001b[0m starting from E:\\GitHub\\porsche-students-contest\\best.pt with input shape (1, 3, 800, 800) BCHW and output shape(s) (1, 7, 13125) (21.5 MB)\n",
      "\u001b[31m\u001b[1mrequirements:\u001b[0m YOLOv8 requirement \"tensorflow-cpu\" not found, attempting AutoUpdate...\n",
      "\u001b[34m\u001b[1mTensorFlow SavedModel:\u001b[0m export failure  31.9s: No module named 'tensorflow'\n",
      "\u001b[34m\u001b[1mTensorFlow Lite:\u001b[0m export failure  0.0s: No module named 'tensorflow'\n"
     ]
    },
    {
     "name": "stdout",
     "output_type": "stream",
     "text": [
      "\n"
     ]
    }
   ],
   "source": [
    "success = model.export(format=\"tflite\")  # export the model to ONNX format"
   ]
  },
  {
   "cell_type": "code",
   "execution_count": null,
   "id": "d81dd3c7-068a-4e6d-82b7-f3c087dfd828",
   "metadata": {},
   "outputs": [],
   "source": []
  }
 ],
 "metadata": {
  "kernelspec": {
   "display_name": "Python 3 (ipykernel)",
   "language": "python",
   "name": "python3"
  },
  "language_info": {
   "codemirror_mode": {
    "name": "ipython",
    "version": 3
   },
   "file_extension": ".py",
   "mimetype": "text/x-python",
   "name": "python",
   "nbconvert_exporter": "python",
   "pygments_lexer": "ipython3",
   "version": "3.10.7"
  }
 },
 "nbformat": 4,
 "nbformat_minor": 5
}
